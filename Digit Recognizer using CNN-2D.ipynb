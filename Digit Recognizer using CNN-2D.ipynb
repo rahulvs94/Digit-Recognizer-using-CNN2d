{
 "cells": [
  {
   "cell_type": "markdown",
   "metadata": {},
   "source": [
    "# Digit Recognizer using Convolutional Neural Network 2D"
   ]
  },
  {
   "cell_type": "markdown",
   "metadata": {},
   "source": [
    "Kaggle Competition: https://www.kaggle.com/c/digit-recognizer"
   ]
  },
  {
   "cell_type": "code",
   "execution_count": 114,
   "metadata": {
    "collapsed": true
   },
   "outputs": [],
   "source": [
    "import numpy as np\n",
    "from keras.models import Sequential\n",
    "from keras.layers import Dense, Dropout, Activation, Flatten\n",
    "from keras.layers.advanced_activations import ELU\n",
    "from keras.layers import Conv2D, MaxPooling2D\n",
    "from keras.utils import np_utils\n",
    "import pandas as pd\n",
    "\n",
    "%matplotlib inline"
   ]
  },
  {
   "cell_type": "markdown",
   "metadata": {},
   "source": [
    "<font size=3>**Load digits dataset**</font>"
   ]
  },
  {
   "cell_type": "code",
   "execution_count": 115,
   "metadata": {},
   "outputs": [
    {
     "name": "stdout",
     "output_type": "stream",
     "text": [
      "train_data shape:  (42000, 785)\n",
      "test_data shape:  (28000, 784)\n"
     ]
    }
   ],
   "source": [
    "train_data = pd.read_csv('train.csv')\n",
    "test_data = pd.read_csv('test.csv')\n",
    "\n",
    "print(\"train_data shape: \", train_data.shape)\n",
    "print(\"test_data shape: \", test_data.shape)"
   ]
  },
  {
   "cell_type": "markdown",
   "metadata": {},
   "source": [
    "<font size=3>**Split train/test data and labels**</font>"
   ]
  },
  {
   "cell_type": "code",
   "execution_count": 116,
   "metadata": {},
   "outputs": [
    {
     "name": "stdout",
     "output_type": "stream",
     "text": [
      "X_train shape:  (42000, 784)\n",
      "Size of first train sample:  (784,)\n",
      "\n",
      "y_train shape:  (42000,)\n",
      "\n",
      "X_train shape:  (28000, 784)\n",
      "Size of first test sample:  (784,)\n"
     ]
    }
   ],
   "source": [
    "X_train = train_data.drop(['label'], axis=1)\n",
    "print(\"X_train shape: \", X_train.shape)\n",
    "\n",
    "print(\"Size of first train sample: \", X_train.loc[0,:].shape)\n",
    "# print(\"Size of first train sample: \", X_train.values.shape)\n",
    "########################\n",
    "y_train = train_data['label']\n",
    "print(\"\\ny_train shape: \", y_train.shape)\n",
    "\n",
    "########################\n",
    "X_test = test_data\n",
    "print(\"\\nX_train shape: \", X_test.shape)\n",
    "\n",
    "print(\"Size of first test sample: \", X_test.loc[0,:].shape)\n",
    "# print(\"Size of first test sample: \", X_test.values.shape)"
   ]
  },
  {
   "cell_type": "markdown",
   "metadata": {},
   "source": [
    "<font size=3>**Reshape data**</font>"
   ]
  },
  {
   "cell_type": "code",
   "execution_count": 117,
   "metadata": {},
   "outputs": [
    {
     "name": "stdout",
     "output_type": "stream",
     "text": [
      "X_train reshaped:  (42000, 28, 28, 1)\n",
      "X_test reshaped:  (28000, 28, 28, 1)\n"
     ]
    }
   ],
   "source": [
    "X_train = X_train.values.reshape(-1,28,28,1)\n",
    "X_test = X_test.values.reshape(-1,28,28,1)\n",
    "print (\"X_train reshaped: \", X_train.shape)\n",
    "print (\"X_test reshaped: \", X_test.shape)"
   ]
  },
  {
   "cell_type": "markdown",
   "metadata": {},
   "source": [
    "<font size=3>**Display one handwritten sample**</font>"
   ]
  },
  {
   "cell_type": "code",
   "execution_count": 118,
   "metadata": {},
   "outputs": [
    {
     "data": {
      "text/plain": [
       "<matplotlib.axes._subplots.AxesSubplot at 0x14d26502a90>"
      ]
     },
     "execution_count": 118,
     "metadata": {},
     "output_type": "execute_result"
    },
    {
     "data": {
      "image/png": "[encoded data removed]",
      "text/plain": [
       "<Figure size 432x288 with 2 Axes>"
      ]
     },
     "metadata": {},
     "output_type": "display_data"
    }
   ],
   "source": [
    "import seaborn as sns\n",
    "from matplotlib import pyplot as plt\n",
    "\n",
    "sns.heatmap(X_train[0][:,:,0])"
   ]
  },
  {
   "cell_type": "code",
   "execution_count": 119,
   "metadata": {},
   "outputs": [
    {
     "data": {
      "text/plain": [
       "<matplotlib.image.AxesImage at 0x14d26816d68>"
      ]
     },
     "execution_count": 119,
     "metadata": {},
     "output_type": "execute_result"
    },
    {
     "data": {
      "image/png": "[encoded data removed]",
      "text/plain": [
       "<Figure size 432x288 with 1 Axes>"
      ]
     },
     "metadata": {},
     "output_type": "display_data"
    }
   ],
   "source": [
    "from matplotlib import pyplot as plt\n",
    "plt.imshow(X_train[0][:,:,0])"
   ]
  },
  {
   "cell_type": "markdown",
   "metadata": {},
   "source": [
    "<font size=3>**Mean normalize dataset**</font>"
   ]
  },
  {
   "cell_type": "code",
   "execution_count": 120,
   "metadata": {
    "collapsed": true
   },
   "outputs": [],
   "source": [
    "X_train_mean = np.mean(X_train, axis=0)\n",
    "X_test_mean = np.mean(X_test, axis=0)\n",
    "\n",
    "X_train = (X_train-X_train_mean)/255\n",
    "X_test = (X_test-X_test_mean)/255"
   ]
  },
  {
   "cell_type": "markdown",
   "metadata": {},
   "source": [
    "<font size=3>**Convert 1-dimensional class arrays to 10-dimensional class matrices**</font>"
   ]
  },
  {
   "cell_type": "markdown",
   "metadata": {},
   "source": [
    "Using to_categorical"
   ]
  },
  {
   "cell_type": "code",
   "execution_count": 121,
   "metadata": {
    "collapsed": true
   },
   "outputs": [],
   "source": [
    "#Y_train = np_utils.to_categorical(y_train, 10)\n",
    "\n",
    "#print (Y_train[0])"
   ]
  },
  {
   "cell_type": "markdown",
   "metadata": {},
   "source": [
    "Using LabelBinarizer"
   ]
  },
  {
   "cell_type": "code",
   "execution_count": 122,
   "metadata": {},
   "outputs": [
    {
     "name": "stdout",
     "output_type": "stream",
     "text": [
      "(42000, 10)\n",
      "[0 1 0 0 0 0 0 0 0 0]\n"
     ]
    }
   ],
   "source": [
    "from sklearn import preprocessing\n",
    "\n",
    "lb = preprocessing.LabelBinarizer(neg_label=0, pos_label=1, sparse_output=False)\n",
    "lb.fit([0, 1, 2, 3, 4, 5, 6, 7, 8, 9])\n",
    "Y_train = lb.transform(y_train)\n",
    "\n",
    "print(Y_train.shape)\n",
    "print (Y_train[0])"
   ]
  },
  {
   "cell_type": "markdown",
   "metadata": {},
   "source": [
    "<font size=3>**Define model architecture**</font>"
   ]
  },
  {
   "cell_type": "code",
   "execution_count": 127,
   "metadata": {
    "collapsed": true
   },
   "outputs": [],
   "source": [
    "model = Sequential()\n",
    " \n",
    "model.add(Conv2D(32, (3, 3), activation='relu', input_shape=(28,28,1)))\n",
    "#model.add(Conv2D(32, (3, 3), input_shape=(28,28,1)))\n",
    "#model.add(ELU(alpha=1.0))\n",
    "model.add(Conv2D(32, (3, 3), activation='relu'))\n",
    "#model.add(Conv2D(32, (3, 3)))\n",
    "#model.add(ELU(alpha=1.0))\n",
    "model.add(MaxPooling2D(pool_size=(2,2)))\n",
    "model.add(Dropout(0.25))\n",
    " \n",
    "model.add(Flatten())\n",
    "model.add(Dense(128, activation='relu'))\n",
    "#model.add(Dense(128))\n",
    "#model.add(ELU(alpha=1.0))\n",
    "model.add(Dropout(0.5))\n",
    "model.add(Dense(10, activation='softmax'))"
   ]
  },
  {
   "cell_type": "markdown",
   "metadata": {},
   "source": [
    "<font size=3>**Compile model**</font>"
   ]
  },
  {
   "cell_type": "code",
   "execution_count": 124,
   "metadata": {
    "collapsed": true
   },
   "outputs": [],
   "source": [
    "model.compile(loss='categorical_crossentropy',optimizer='adam',metrics=['accuracy'])"
   ]
  },
  {
   "cell_type": "markdown",
   "metadata": {},
   "source": [
    "<font size=3>**Fit model using training data**</font>"
   ]
  },
  {
   "cell_type": "code",
   "execution_count": 125,
   "metadata": {},
   "outputs": [
    {
     "name": "stdout",
     "output_type": "stream",
     "text": [
      "Epoch 1/10\n",
      "42000/42000 [==============================] - 180s 4ms/step - loss: 0.2537 - acc: 0.9236\n",
      "Epoch 2/10\n",
      "42000/42000 [==============================] - 177s 4ms/step - loss: 0.0950 - acc: 0.9718\n",
      "Epoch 3/10\n",
      "42000/42000 [==============================] - 177s 4ms/step - loss: 0.0721 - acc: 0.9780\n",
      "Epoch 4/10\n",
      "42000/42000 [==============================] - 179s 4ms/step - loss: 0.0610 - acc: 0.9814\n",
      "Epoch 5/10\n",
      "42000/42000 [==============================] - 177s 4ms/step - loss: 0.0519 - acc: 0.9843\n",
      "Epoch 6/10\n",
      "42000/42000 [==============================] - 178s 4ms/step - loss: 0.0452 - acc: 0.9864\n",
      "Epoch 7/10\n",
      "42000/42000 [==============================] - 177s 4ms/step - loss: 0.0413 - acc: 0.9868\n",
      "Epoch 8/10\n",
      "42000/42000 [==============================] - 175s 4ms/step - loss: 0.0372 - acc: 0.9883\n",
      "Epoch 9/10\n",
      "42000/42000 [==============================] - 174s 4ms/step - loss: 0.0318 - acc: 0.9894\n",
      "Epoch 10/10\n",
      "42000/42000 [==============================] - 174s 4ms/step - loss: 0.0308 - acc: 0.9898\n"
     ]
    },
    {
     "data": {
      "text/plain": [
       "<keras.callbacks.History at 0x14d2683cb70>"
      ]
     },
     "execution_count": 125,
     "metadata": {},
     "output_type": "execute_result"
    }
   ],
   "source": [
    "model.fit(X_train, Y_train, batch_size=32, epochs=20, verbose=1)"
   ]
  },
  {
   "cell_type": "markdown",
   "metadata": {},
   "source": [
    "<font size=3>**Predict test data**</font>"
   ]
  },
  {
   "cell_type": "code",
   "execution_count": 126,
   "metadata": {},
   "outputs": [
    {
     "name": "stdout",
     "output_type": "stream",
     "text": [
      "28000/28000 [==============================] - 34s 1ms/step\n",
      "Prediction:  [[1.4708214e-10 2.7373899e-13 1.0000000e+00 ... 5.0259675e-12\n",
      "  4.0031718e-11 4.1553080e-12]\n",
      " [1.0000000e+00 1.2095946e-14 6.8475328e-09 ... 1.2439276e-10\n",
      "  6.1063758e-12 1.7627215e-10]\n",
      " [5.7015102e-14 1.5872958e-13 1.3060071e-10 ... 2.8188765e-09\n",
      "  8.7130815e-08 9.9997556e-01]\n",
      " ...\n",
      " [7.6286191e-21 2.9402696e-14 2.8426751e-13 ... 9.3206743e-15\n",
      "  2.8383313e-12 5.4860561e-11]\n",
      " [8.7333266e-12 4.6345002e-13 1.6951433e-11 ... 2.5264297e-08\n",
      "  2.2613621e-08 9.9997711e-01]\n",
      " [5.6116299e-13 1.6529775e-16 1.0000000e+00 ... 1.2211708e-15\n",
      "  4.8549054e-09 9.3055847e-13]]\n"
     ]
    }
   ],
   "source": [
    "pred = model.predict(X_test, verbose=1)\n",
    "print(\"Prediction: \", pred)"
   ]
  },
  {
   "cell_type": "markdown",
   "metadata": {},
   "source": [
    "Train accuracy using ELU: 98.19%"
   ]
  },
  {
   "cell_type": "markdown",
   "metadata": {},
   "source": [
    "Train accuracy using ReLU: 98.98%"
   ]
  },
  {
   "cell_type": "markdown",
   "metadata": {},
   "source": [
    "<font size=3>**Finding the maximum probability**</font>"
   ]
  },
  {
   "cell_type": "code",
   "execution_count": 138,
   "metadata": {
    "collapsed": true
   },
   "outputs": [],
   "source": [
    "maxProb = np.argmax(pred, axis = 1)\n",
    "maxProb = pd.Series(maxProb, name=\"Label\")"
   ]
  },
  {
   "cell_type": "markdown",
   "metadata": {},
   "source": [
    "<font size=3>**Creating a CSV file for prediction**</font>"
   ]
  },
  {
   "cell_type": "code",
   "execution_count": 139,
   "metadata": {
    "collapsed": true
   },
   "outputs": [],
   "source": [
    "output = pd.concat([pd.Series(range(1,28001),name = \"ImageId\"), maxProb], axis = 1)\n",
    "output.to_csv(\"submission.csv\",index=False)"
   ]
  },
  {
   "cell_type": "code",
   "execution_count": null,
   "metadata": {
    "collapsed": true
   },
   "outputs": [],
   "source": []
  }
 ],
 "metadata": {
  "kernelspec": {
   "display_name": "Python 3",
   "language": "python",
   "name": "python3"
  },
  "language_info": {
   "codemirror_mode": {
    "name": "ipython",
    "version": 3
   },
   "file_extension": ".py",
   "mimetype": "text/x-python",
   "name": "python",
   "nbconvert_exporter": "python",
   "pygments_lexer": "ipython3",
   "version": "3.6.3"
  }
 },
 "nbformat": 4,
 "nbformat_minor": 2
}
